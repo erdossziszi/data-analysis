{
 "cells": [
  {
   "cell_type": "code",
   "execution_count": 1,
   "id": "7ac4b25e",
   "metadata": {},
   "outputs": [],
   "source": [
    "import os\n",
    "import re\n",
    "import pandas as pd\n",
    "import matplotlib.pyplot as plt"
   ]
  },
  {
   "cell_type": "code",
   "execution_count": 2,
   "id": "b3958be0",
   "metadata": {},
   "outputs": [],
   "source": [
    "files_folder = \"E:\\\\ASAP PhD Project\\\\TESTS\\\\FILES\\\\S_10\"\n",
    "results_folder = \"E:\\\\ASAP PhD Project\\\\TESTS\\\\RESULTS\\\\S_10\"\n",
    "results_folder_AV = \"E:\\\\ASAP PhD Project\\\\TESTS\\\\RESULTS\\\\S_10_AV\""
   ]
  },
  {
   "cell_type": "code",
   "execution_count": 3,
   "id": "67f365cd",
   "metadata": {},
   "outputs": [],
   "source": [
    "# Function to process results files\n",
    "def process_file(file, folder):\n",
    "    data = {}\n",
    "    with open(os.path.join(folder, file), \"r\") as f:\n",
    "        for line in f:\n",
    "            match = re.match(r\"(\\w+)\\s*=\\s*(.+);\", line)\n",
    "            if match:\n",
    "                key, value = match.groups()\n",
    "                data[key] = value\n",
    "        return data"
   ]
  },
  {
   "cell_type": "code",
   "execution_count": 4,
   "id": "32db53b7",
   "metadata": {},
   "outputs": [],
   "source": [
    "def find_time_elapsed(file, folder, regex):\n",
    "    time_elapsed_values = []\n",
    "    with open(os.path.join(folder, file), \"r\") as f:\n",
    "        file_content = f.read()\n",
    "\n",
    "    time_elapsed_values = re.findall(regex, file_content)\n",
    "\n",
    "    return time_elapsed_values[-1] if time_elapsed_values else \"\""
   ]
  },
  {
   "cell_type": "code",
   "execution_count": 5,
   "id": "50bdf88c",
   "metadata": {},
   "outputs": [],
   "source": [
    "def collect_data(files_folder, results_folder):\n",
    "    table_data = {}\n",
    "    # Fájlok beolvasása\n",
    "    files = os.listdir(files_folder) + os.listdir(results_folder)\n",
    "\n",
    "    # Adatok feldolgozása és táblázat feltöltése\n",
    "    for file in files:\n",
    "        file_name, file_ext = os.path.splitext(file)  # Split filename and extension\n",
    "        if file_ext == \".dzn\":\n",
    "            file_data = process_file(file, files_folder) \n",
    "            #file_data[\"Filename\"] = file_name\n",
    "            #table_data.append(file_data)\n",
    "            table_data[file_name] = file_data\n",
    "        elif file_ext == \".txt\":\n",
    "            results_data = process_file(file, results_folder)\n",
    "            table_data[file_name] = {**table_data.get(file_name, {}), **results_data}  # Merge dictionaries\n",
    "\n",
    "            regex = r\"% time elapsed: (\\d+\\.\\d+) s\\n-{10}\"\n",
    "            table_data[file_name][\"time_best\"] = find_time_elapsed(file, results_folder, regex)\n",
    "            final_regex = r\"={10}\\n% time elapsed: (\\d+\\.\\d+) s\"\n",
    "            table_data[file_name][\"time_final\"] = find_time_elapsed(file, results_folder, final_regex)\n",
    "    return table_data"
   ]
  },
  {
   "cell_type": "code",
   "execution_count": 6,
   "id": "22fd291d",
   "metadata": {},
   "outputs": [],
   "source": [
    "def table_2_df(table_data):\n",
    "    df = pd.DataFrame(table_data)\n",
    "    #df.columns = list(df.iloc[0].keys())\n",
    "    df.columns = sorted(df.columns)\n",
    "\n",
    "    df = df.fillna(\"\")\n",
    "    df = df.T\n",
    "    return df"
   ]
  },
  {
   "cell_type": "code",
   "execution_count": 7,
   "id": "36b32a16",
   "metadata": {},
   "outputs": [],
   "source": [
    "def times_2_num(df):\n",
    "    df[\"time_best\"] = pd.to_numeric(df[\"time_best\"], errors='coerce')\n",
    "    df[\"time_final\"] = pd.to_numeric(df[\"time_final\"], errors='coerce')\n",
    "    #df[\"time_best\"].max()\n",
    "    return df"
   ]
  },
  {
   "cell_type": "code",
   "execution_count": 10,
   "id": "92b833b9",
   "metadata": {},
   "outputs": [],
   "source": [
    "table_S_10 = collect_data(files_folder, results_folder)\n",
    "df_S_10 = times_2_num(table_2_df(table_S_10))\n",
    "\n",
    "table_S_10_AV = collect_data(files_folder, results_folder_AV)\n",
    "df_S_10_AV = times_2_num(table_2_df(table_S_10_AV))"
   ]
  },
  {
   "cell_type": "code",
   "execution_count": 9,
   "id": "c7b8a042",
   "metadata": {},
   "outputs": [
    {
     "data": {
      "text/plain": [
       "Index(['StudentsNr', 'InstructorsNr', 'DaysNr', 'SlotsPerDay',\n",
       "       'AvailabilitySlotsLenght', 'RoomNr', 'ProgrammNr', 'DegreeNr',\n",
       "       'RolesNr', 'CoursesNr', 'InstructorsProgramm',\n",
       "       'InstructorRolesPerProgramm', 'InstructorsAvailability',\n",
       "       'StudentsProgramm', 'StudentsDegree', 'StudentsSupervisorId',\n",
       "       'StudentsCourseIds', 'StudentsAvailability', 'TheoryticalMinCard',\n",
       "       'CoursesInstructorIds', 'RolesDemands', 'RolesContinuity', 'ExamLen',\n",
       "       'LunchTsMinLen', 'LunchStarts', 'SupervisorAvailable',\n",
       "       'OptimalLunchLenght', 'OptimalStartTs', 'OptimalFinishTs',\n",
       "       'MinimizeRooms', 'RolesSoftContinuity', 'SameDegreeInRoom',\n",
       "       'Mergeability', 'time_best', 'time_final', 'StartTs', 'RoomSchedule',\n",
       "       'InstructorSchedule', 'RolesSchedule', 'ExaminersSchedule',\n",
       "       'LunchStartTs', 'LunchLen', 'optimal_lunch_len', 'optimal_start_ts',\n",
       "       'optimal_finish_ts', 'minimize_rooms', 'roles_soft_continuity',\n",
       "       'same_degree_in_room', 'mergeability', 'obj'],\n",
       "      dtype='object')"
      ]
     },
     "execution_count": 9,
     "metadata": {},
     "output_type": "execute_result"
    }
   ],
   "source": [
    "df_S_10.iloc[0].keys()"
   ]
  },
  {
   "cell_type": "code",
   "execution_count": 11,
   "id": "7089a6a6",
   "metadata": {},
   "outputs": [
    {
     "data": {
      "text/plain": [
       "3600.77"
      ]
     },
     "execution_count": 11,
     "metadata": {},
     "output_type": "execute_result"
    }
   ],
   "source": [
    "df_S_10[\"time_best\"].max()"
   ]
  },
  {
   "cell_type": "code",
   "execution_count": 12,
   "id": "0a5a04ec",
   "metadata": {},
   "outputs": [
    {
     "data": {
      "text/plain": [
       "1501.33"
      ]
     },
     "execution_count": 12,
     "metadata": {},
     "output_type": "execute_result"
    }
   ],
   "source": [
    "df_S_10_AV[\"time_best\"].max()"
   ]
  },
  {
   "cell_type": "code",
   "execution_count": 13,
   "id": "e5db6d6b",
   "metadata": {},
   "outputs": [],
   "source": [
    "def collect_times_notna(df):\n",
    "    time_best = df[df[\"time_best\"].notna()]\n",
    "    return time_best[[\"time_best\",\"time_final\"]]"
   ]
  },
  {
   "cell_type": "code",
   "execution_count": null,
   "id": "8cd12f22",
   "metadata": {},
   "outputs": [],
   "source": []
  },
  {
   "cell_type": "code",
   "execution_count": 14,
   "id": "057f85bf",
   "metadata": {},
   "outputs": [
    {
     "name": "stdout",
     "output_type": "stream",
     "text": [
      "A 10 legnagyobb érték: [1501.33, 1436.57, 1425.61, 1397.67, 1363.71, 1306.98, 1210.19, 1193.88, 1187.23, 1177.27]\n"
     ]
    }
   ],
   "source": [
    "df_rendezve = df_S_10_AV.sort_values(by=\"time_best\", ascending=False)\n",
    "\n",
    "# Első 10 sor kiválasztása\n",
    "df_legjobbak = df_rendezve.head(10)\n",
    "\n",
    "# \"time_best\" oszlop kiválasztása\n",
    "legjobb_ertekek = df_legjobbak[\"time_best\"]\n",
    "\n",
    "print(f\"A 10 legnagyobb érték: {legjobb_ertekek.tolist()}\")"
   ]
  },
  {
   "cell_type": "code",
   "execution_count": 15,
   "id": "41f6971c",
   "metadata": {},
   "outputs": [],
   "source": [
    "def plot_times(data):\n",
    "    plt.figure(figsize=(8, 6))  # Ábrázolási terület mérete\n",
    "    plt.scatter(data[\"time_best\"], data[\"time_final\"], alpha=0.5)  # Pontdiagram létrehozása\n",
    "    plt.xlabel(\"time_best\")  # X tengely címkéje\n",
    "    plt.ylabel(\"time_final\")  # Y tengely címkéje\n",
    "    plt.title(\"best times\")  # Cím\n",
    "    plt.grid(False)  # Rács megjelenítése\n",
    "    plt.show()  # Ábra megjelenítése"
   ]
  },
  {
   "cell_type": "code",
   "execution_count": 16,
   "id": "f35f3b46",
   "metadata": {},
   "outputs": [],
   "source": [
    "def plot_hist_time(time_data):\n",
    "    \n",
    "    plt.figure(figsize=(18, 10))  # Ábrázolási terület mérete\n",
    "    plt.hist(time_data, bins=100)  # Oszloprendiagram létrehozása\n",
    "\n",
    "    plt.show()  # Ábra megjelenítése"
   ]
  },
  {
   "cell_type": "code",
   "execution_count": 17,
   "id": "e5d3c766",
   "metadata": {},
   "outputs": [],
   "source": [
    "data_S_10 = collect_times_notna(df_S_10)\n",
    "data_S_10_AV = collect_times_notna(df_S_10_AV)"
   ]
  },
  {
   "cell_type": "code",
   "execution_count": 22,
   "id": "9e68b86d",
   "metadata": {},
   "outputs": [
    {
     "data": {
      "image/png": "[encoded data removed]",
      "text/plain": [
       "<Figure size 576x432 with 1 Axes>"
      ]
     },
     "metadata": {
      "needs_background": "light"
     },
     "output_type": "display_data"
    }
   ],
   "source": [
    "plot_times(data_S_10)"
   ]
  },
  {
   "cell_type": "code",
   "execution_count": 19,
   "id": "ea848594",
   "metadata": {},
   "outputs": [
    {
     "data": {
      "image/png": "[encoded data removed]",
      "text/plain": [
       "<Figure size 576x432 with 1 Axes>"
      ]
     },
     "metadata": {
      "needs_background": "light"
     },
     "output_type": "display_data"
    }
   ],
   "source": [
    "plot_times(data_S_10_AV)"
   ]
  },
  {
   "cell_type": "code",
   "execution_count": 23,
   "id": "c8a57183",
   "metadata": {},
   "outputs": [
    {
     "data": {
      "image/png": "[encoded data removed]",
      "text/plain": [
       "<Figure size 1296x720 with 1 Axes>"
      ]
     },
     "metadata": {
      "needs_background": "light"
     },
     "output_type": "display_data"
    }
   ],
   "source": [
    "plot_hist_time(data_S_10[\"time_best\"])"
   ]
  },
  {
   "cell_type": "code",
   "execution_count": 24,
   "id": "14329522",
   "metadata": {},
   "outputs": [
    {
     "data": {
      "text/html": [
       "<div>\n",
       "<style scoped>\n",
       "    .dataframe tbody tr th:only-of-type {\n",
       "        vertical-align: middle;\n",
       "    }\n",
       "\n",
       "    .dataframe tbody tr th {\n",
       "        vertical-align: top;\n",
       "    }\n",
       "\n",
       "    .dataframe thead th {\n",
       "        text-align: right;\n",
       "    }\n",
       "</style>\n",
       "<table border=\"1\" class=\"dataframe\">\n",
       "  <thead>\n",
       "    <tr style=\"text-align: right;\">\n",
       "      <th></th>\n",
       "      <th>time_best</th>\n",
       "      <th>time_final</th>\n",
       "    </tr>\n",
       "  </thead>\n",
       "  <tbody>\n",
       "    <tr>\n",
       "      <th>count</th>\n",
       "      <td>261.000000</td>\n",
       "      <td>224.000000</td>\n",
       "    </tr>\n",
       "    <tr>\n",
       "      <th>mean</th>\n",
       "      <td>163.701226</td>\n",
       "      <td>151.123795</td>\n",
       "    </tr>\n",
       "    <tr>\n",
       "      <th>std</th>\n",
       "      <td>508.620030</td>\n",
       "      <td>384.836000</td>\n",
       "    </tr>\n",
       "    <tr>\n",
       "      <th>min</th>\n",
       "      <td>1.140000</td>\n",
       "      <td>1.150000</td>\n",
       "    </tr>\n",
       "    <tr>\n",
       "      <th>25%</th>\n",
       "      <td>4.520000</td>\n",
       "      <td>4.802500</td>\n",
       "    </tr>\n",
       "    <tr>\n",
       "      <th>50%</th>\n",
       "      <td>9.510000</td>\n",
       "      <td>11.520000</td>\n",
       "    </tr>\n",
       "    <tr>\n",
       "      <th>75%</th>\n",
       "      <td>36.570000</td>\n",
       "      <td>50.587500</td>\n",
       "    </tr>\n",
       "    <tr>\n",
       "      <th>max</th>\n",
       "      <td>3600.770000</td>\n",
       "      <td>2408.840000</td>\n",
       "    </tr>\n",
       "  </tbody>\n",
       "</table>\n",
       "</div>"
      ],
      "text/plain": [
       "         time_best   time_final\n",
       "count   261.000000   224.000000\n",
       "mean    163.701226   151.123795\n",
       "std     508.620030   384.836000\n",
       "min       1.140000     1.150000\n",
       "25%       4.520000     4.802500\n",
       "50%       9.510000    11.520000\n",
       "75%      36.570000    50.587500\n",
       "max    3600.770000  2408.840000"
      ]
     },
     "execution_count": 24,
     "metadata": {},
     "output_type": "execute_result"
    }
   ],
   "source": [
    "data_S_10.describe()"
   ]
  },
  {
   "cell_type": "code",
   "execution_count": 25,
   "id": "fbe2f633",
   "metadata": {},
   "outputs": [
    {
     "data": {
      "text/html": [
       "<div>\n",
       "<style scoped>\n",
       "    .dataframe tbody tr th:only-of-type {\n",
       "        vertical-align: middle;\n",
       "    }\n",
       "\n",
       "    .dataframe tbody tr th {\n",
       "        vertical-align: top;\n",
       "    }\n",
       "\n",
       "    .dataframe thead th {\n",
       "        text-align: right;\n",
       "    }\n",
       "</style>\n",
       "<table border=\"1\" class=\"dataframe\">\n",
       "  <thead>\n",
       "    <tr style=\"text-align: right;\">\n",
       "      <th></th>\n",
       "      <th>time_best</th>\n",
       "      <th>time_final</th>\n",
       "    </tr>\n",
       "  </thead>\n",
       "  <tbody>\n",
       "    <tr>\n",
       "      <th>count</th>\n",
       "      <td>322.000000</td>\n",
       "      <td>257.000000</td>\n",
       "    </tr>\n",
       "    <tr>\n",
       "      <th>mean</th>\n",
       "      <td>107.398540</td>\n",
       "      <td>118.239767</td>\n",
       "    </tr>\n",
       "    <tr>\n",
       "      <th>std</th>\n",
       "      <td>276.065204</td>\n",
       "      <td>272.831681</td>\n",
       "    </tr>\n",
       "    <tr>\n",
       "      <th>min</th>\n",
       "      <td>1.030000</td>\n",
       "      <td>1.030000</td>\n",
       "    </tr>\n",
       "    <tr>\n",
       "      <th>25%</th>\n",
       "      <td>4.620000</td>\n",
       "      <td>4.800000</td>\n",
       "    </tr>\n",
       "    <tr>\n",
       "      <th>50%</th>\n",
       "      <td>9.485000</td>\n",
       "      <td>10.940000</td>\n",
       "    </tr>\n",
       "    <tr>\n",
       "      <th>75%</th>\n",
       "      <td>33.120000</td>\n",
       "      <td>53.190000</td>\n",
       "    </tr>\n",
       "    <tr>\n",
       "      <th>max</th>\n",
       "      <td>1501.330000</td>\n",
       "      <td>1378.130000</td>\n",
       "    </tr>\n",
       "  </tbody>\n",
       "</table>\n",
       "</div>"
      ],
      "text/plain": [
       "         time_best   time_final\n",
       "count   322.000000   257.000000\n",
       "mean    107.398540   118.239767\n",
       "std     276.065204   272.831681\n",
       "min       1.030000     1.030000\n",
       "25%       4.620000     4.800000\n",
       "50%       9.485000    10.940000\n",
       "75%      33.120000    53.190000\n",
       "max    1501.330000  1378.130000"
      ]
     },
     "execution_count": 25,
     "metadata": {},
     "output_type": "execute_result"
    }
   ],
   "source": [
    "data_S_10_AV.describe()"
   ]
  },
  {
   "cell_type": "code",
   "execution_count": null,
   "id": "85c50ce8",
   "metadata": {},
   "outputs": [],
   "source": []
  },
  {
   "cell_type": "code",
   "execution_count": null,
   "id": "79a9a9df",
   "metadata": {},
   "outputs": [],
   "source": [
    "df.to_excel(\"data_AV.xlsx\", index=True)"
   ]
  },
  {
   "cell_type": "code",
   "execution_count": null,
   "id": "a28a5874",
   "metadata": {},
   "outputs": [],
   "source": []
  },
  {
   "cell_type": "code",
   "execution_count": null,
   "id": "1525fe92",
   "metadata": {},
   "outputs": [],
   "source": []
  },
  {
   "cell_type": "code",
   "execution_count": null,
   "id": "4ed5f11a",
   "metadata": {},
   "outputs": [],
   "source": []
  },
  {
   "cell_type": "code",
   "execution_count": null,
   "id": "8747627a",
   "metadata": {},
   "outputs": [],
   "source": []
  },
  {
   "cell_type": "code",
   "execution_count": null,
   "id": "97574ec1",
   "metadata": {},
   "outputs": [],
   "source": []
  },
  {
   "cell_type": "code",
   "execution_count": null,
   "id": "62a125fa",
   "metadata": {},
   "outputs": [],
   "source": []
  },
  {
   "cell_type": "code",
   "execution_count": null,
   "id": "bf575670",
   "metadata": {},
   "outputs": [],
   "source": []
  },
  {
   "cell_type": "code",
   "execution_count": null,
   "id": "ffaedd45",
   "metadata": {},
   "outputs": [],
   "source": []
  },
  {
   "cell_type": "code",
   "execution_count": null,
   "id": "fbc858b4",
   "metadata": {},
   "outputs": [],
   "source": []
  },
  {
   "cell_type": "code",
   "execution_count": null,
   "id": "5e98c34c",
   "metadata": {},
   "outputs": [],
   "source": [
    "# Function to handle list/set values\n",
    "def handle_value(value):\n",
    "    if value.startswith(\"[\") and value.endswith(\"]\"):  # List-like value\n",
    "        return [int(x) for x in value.strip(\"[]\").split(\",\")]  # Convert to int if numbers\n",
    "    elif value.startswith(\"{\") and value.endswith(\"}\"):  # Set-like value\n",
    "        return set([int(x) for x in value.strip(\"{}\").split(\",\")])  # Convert to int if numbers\n",
    "    else:\n",
    "        return value  # Keep other values as strings"
   ]
  },
  {
   "cell_type": "code",
   "execution_count": null,
   "id": "426fd2e2",
   "metadata": {},
   "outputs": [],
   "source": [
    "# Fájlok beolvasása\n",
    "files = os.listdir(files_folder) + os.listdir(results_folder)"
   ]
  },
  {
   "cell_type": "code",
   "execution_count": null,
   "id": "ee605dcc",
   "metadata": {
    "scrolled": true
   },
   "outputs": [],
   "source": [
    "# Táblázat inicializálása\n",
    "table_data = {}\n",
    "\n",
    "# Adatok feldolgozása és táblázat feltöltése\n",
    "for file in files:\n",
    "    file_name, file_ext = os.path.splitext(file)  # Split filename and extension\n",
    "    if file_ext == \".dzn\":\n",
    "        file_data = process_file(file, files_folder) \n",
    "        #file_data[\"Filename\"] = file_name\n",
    "        #table_data.append(file_data)\n",
    "        table_data[file_name] = file_data\n",
    "    elif file_ext == \".txt\":\n",
    "        results_data = process_file(file, results_folder)\n",
    "        table_data[file_name] = {**table_data.get(file_name, {}), **results_data}  # Merge dictionaries\n",
    "        \n",
    "        regex = r\"% time elapsed: (\\d+\\.\\d+) s\\n-{10}\"\n",
    "        table_data[file_name][\"time_best\"] = find_time_elapsed(file, results_folder, regex)\n",
    "        final_regex = r\"={10}\\n% time elapsed: (\\d+\\.\\d+) s\"\n",
    "        table_data[file_name][\"time_final\"] = find_time_elapsed(file, results_folder, final_regex)\n"
   ]
  },
  {
   "cell_type": "code",
   "execution_count": null,
   "id": "0f9fc487",
   "metadata": {},
   "outputs": [],
   "source": [
    "df = pd.DataFrame(table_data)\n",
    "#df.columns = list(df.iloc[0].keys())\n",
    "df.columns = sorted(df.columns)\n",
    "\n",
    "df = df.fillna(\"\")\n",
    "df = df.T"
   ]
  },
  {
   "cell_type": "code",
   "execution_count": null,
   "id": "a7a221fc",
   "metadata": {},
   "outputs": [],
   "source": [
    "time_best = df[df[\"time_best\"].notna()]\n",
    "data = time_best[[\"time_best\",\"time_final\"]]\n",
    "data"
   ]
  }
 ],
 "metadata": {
  "kernelspec": {
   "display_name": "Python 3 (ipykernel)",
   "language": "python",
   "name": "python3"
  },
  "language_info": {
   "codemirror_mode": {
    "name": "ipython",
    "version": 3
   },
   "file_extension": ".py",
   "mimetype": "text/x-python",
   "name": "python",
   "nbconvert_exporter": "python",
   "pygments_lexer": "ipython3",
   "version": "3.9.7"
  }
 },
 "nbformat": 4,
 "nbformat_minor": 5
}
